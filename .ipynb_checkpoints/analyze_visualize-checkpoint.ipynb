{
 "cells": [
  {
   "cell_type": "code",
   "execution_count": null,
   "id": "29375c29-d045-48db-814d-bbc3f433f339",
   "metadata": {},
   "outputs": [],
   "source": [
    "# !pip install crim_intervals\n",
    "# !pip install ipython_genutils"
   ]
  },
  {
   "cell_type": "code",
   "execution_count": null,
   "id": "da1475d3-dacc-421d-ad94-35cdef237e79",
   "metadata": {},
   "outputs": [],
   "source": [
    "from crim_intervals import * \n",
    "import crim_intervals.visualizations as viz\n",
    "%matplotlib inline\n",
    "\n",
    "from IPython.display import YouTubeVideo"
   ]
  },
  {
   "cell_type": "code",
   "execution_count": null,
   "id": "8c4a0edb-8c3d-44dd-bb8a-478a8d7c594a",
   "metadata": {
    "tags": []
   },
   "outputs": [],
   "source": [
    "YouTubeVideo('s-pVbpV4yuk', width=800, height=400)"
   ]
  },
  {
   "cell_type": "code",
   "execution_count": null,
   "id": "0c2e370c-bfec-40ff-afa8-14800933a32d",
   "metadata": {
    "tags": []
   },
   "outputs": [],
   "source": [
    "piece = importScore('https://crimproject.org/mei/CRIM_Model_0008.mei')"
   ]
  },
  {
   "cell_type": "code",
   "execution_count": null,
   "id": "45b2e644-2f24-4c32-838b-98243aeba29a",
   "metadata": {
    "tags": []
   },
   "outputs": [],
   "source": [
    "piece.metadata"
   ]
  },
  {
   "cell_type": "code",
   "execution_count": null,
   "id": "94ebf3c4-b9cf-47d7-9f84-16e9602aee22",
   "metadata": {
    "tags": []
   },
   "outputs": [],
   "source": [
    "notes = piece.notes()\n",
    "\n",
    "notes"
   ]
  },
  {
   "cell_type": "code",
   "execution_count": null,
   "id": "0867d3bb-a36d-43d1-8790-c50579a65c8e",
   "metadata": {
    "tags": []
   },
   "outputs": [],
   "source": [
    "notes.T"
   ]
  },
  {
   "cell_type": "markdown",
   "id": "013e4519-073a-43dc-b559-4969d971864e",
   "metadata": {},
   "source": [
    "## Cadences"
   ]
  },
  {
   "cell_type": "code",
   "execution_count": null,
   "id": "563021b3-9eb4-4514-bd43-fad56403769c",
   "metadata": {
    "tags": []
   },
   "outputs": [],
   "source": [
    "cadences = piece.cadences()"
   ]
  },
  {
   "cell_type": "code",
   "execution_count": null,
   "id": "cca10b24-a5dc-4f09-b6fc-4f6245a14060",
   "metadata": {
    "tags": []
   },
   "outputs": [],
   "source": [
    "cadences"
   ]
  },
  {
   "cell_type": "code",
   "execution_count": null,
   "id": "8384bb6f-c6f3-4eaa-8ebc-02cc87476f17",
   "metadata": {
    "tags": []
   },
   "outputs": [],
   "source": [
    "cadences[\"Tone\"].value_counts()"
   ]
  },
  {
   "cell_type": "code",
   "execution_count": null,
   "id": "3399f9f2-8335-4a31-a5f3-785600249743",
   "metadata": {},
   "outputs": [],
   "source": [
    "piece.cadenceRadarPlot()"
   ]
  },
  {
   "cell_type": "code",
   "execution_count": null,
   "id": "3c5f4bdb-3de3-4d8b-84bc-dd32fb69b0a9",
   "metadata": {
    "tags": []
   },
   "outputs": [],
   "source": [
    "cadences_G = cadences[ cadences[\"Tone\"] == \"G\" ] # read: \"Show me the cadences, where the cadence is on tone G."
   ]
  },
  {
   "cell_type": "code",
   "execution_count": null,
   "id": "84fb1803-36fd-4075-8ae8-b68e6ea44823",
   "metadata": {},
   "outputs": [],
   "source": [
    "cadences_G.iloc[:1,:]"
   ]
  },
  {
   "cell_type": "code",
   "execution_count": null,
   "id": "d44dfaa7-b183-4893-a65b-5bde6d319910",
   "metadata": {
    "tags": []
   },
   "outputs": [],
   "source": [
    "piece.verovioCadences(cadences_G.iloc[:3,:])"
   ]
  },
  {
   "cell_type": "code",
   "execution_count": null,
   "id": "3287ca2e-55a1-4e2d-912b-a1471567a495",
   "metadata": {
    "tags": []
   },
   "outputs": [],
   "source": [
    "cadences"
   ]
  },
  {
   "cell_type": "code",
   "execution_count": null,
   "id": "30be10ad-c7c6-46f2-afa4-75af53f9e952",
   "metadata": {
    "tags": []
   },
   "outputs": [],
   "source": [
    "piece.cvfs()"
   ]
  },
  {
   "cell_type": "code",
   "execution_count": null,
   "id": "da48a9c0-22ba-452e-9c6b-2de898cd79b8",
   "metadata": {},
   "outputs": [],
   "source": [
    "piece.cadenceProgressPlot()"
   ]
  },
  {
   "cell_type": "code",
   "execution_count": null,
   "id": "888f02c5-d545-4ff8-b4bb-799e22e1804f",
   "metadata": {},
   "outputs": [],
   "source": [
    "cadences.iloc[-1,:]"
   ]
  },
  {
   "cell_type": "code",
   "execution_count": null,
   "id": "518834ca-dc6d-4011-b1d6-83b79b5e6f85",
   "metadata": {},
   "outputs": [],
   "source": [
    "piece.verovioCadences(cadences.iloc[-1:,:])"
   ]
  },
  {
   "cell_type": "code",
   "execution_count": null,
   "id": "620d0738-4469-4f73-9b58-2f82ff0e3af6",
   "metadata": {
    "tags": []
   },
   "outputs": [],
   "source": [
    "piece.final()"
   ]
  },
  {
   "cell_type": "markdown",
   "id": "7149f9df-6e6b-4fc4-91e2-f7240c2f1189",
   "metadata": {},
   "source": [
    "## Intervals"
   ]
  },
  {
   "cell_type": "code",
   "execution_count": null,
   "id": "abed892f-c562-4e18-9ec2-2ffdd4a41b59",
   "metadata": {
    "tags": []
   },
   "outputs": [],
   "source": [
    "# piece.ngrams()"
   ]
  },
  {
   "cell_type": "code",
   "execution_count": null,
   "id": "1f1714a7-cc5d-4f9f-8a28-233f4bbc5487",
   "metadata": {
    "tags": []
   },
   "outputs": [],
   "source": [
    "piece.notes()"
   ]
  },
  {
   "cell_type": "code",
   "execution_count": null,
   "id": "ce06396f-7a3e-42e5-81d7-c1188ae65d28",
   "metadata": {
    "tags": []
   },
   "outputs": [],
   "source": [
    "piece.harmonic()"
   ]
  },
  {
   "cell_type": "code",
   "execution_count": null,
   "id": "b9fe5477-f840-443c-b680-97a2862a73d4",
   "metadata": {
    "tags": []
   },
   "outputs": [],
   "source": [
    "piece.melodic()"
   ]
  },
  {
   "cell_type": "code",
   "execution_count": null,
   "id": "f66a4321-bbc1-4987-932d-73018a2a7432",
   "metadata": {
    "tags": []
   },
   "outputs": [],
   "source": [
    "piece.sonorities()"
   ]
  },
  {
   "cell_type": "markdown",
   "id": "9e8da7c4-3302-4a02-a7cd-0a6edbbe678c",
   "metadata": {},
   "source": [
    "## Presentation Types"
   ]
  },
  {
   "cell_type": "code",
   "execution_count": null,
   "id": "1cdf6f5e-33ef-4e09-bb62-18fa925cd6df",
   "metadata": {},
   "outputs": [],
   "source": [
    "ptypes = piece.presentationTypes()"
   ]
  },
  {
   "cell_type": "code",
   "execution_count": null,
   "id": "a37d696b-b1f8-4a1e-b186-3b86beeef53a",
   "metadata": {},
   "outputs": [],
   "source": [
    "ptypes[\"Presentation_Type\"]"
   ]
  },
  {
   "cell_type": "code",
   "execution_count": null,
   "id": "38f8962d-6af2-4b9d-ab24-87cedfdc169b",
   "metadata": {
    "tags": []
   },
   "outputs": [],
   "source": [
    "ptypes[\"Presentation_Type\"].value_counts()"
   ]
  },
  {
   "cell_type": "code",
   "execution_count": null,
   "id": "7e89406a-e5e4-4cd9-9ee5-29e6f8991b61",
   "metadata": {},
   "outputs": [],
   "source": [
    "ID = ptypes[ptypes[\"Presentation_Type\"] == \"ID\"]\n",
    "NIM = ptypes[ptypes[\"Presentation_Type\"] == \"NIM\"]"
   ]
  },
  {
   "cell_type": "code",
   "execution_count": null,
   "id": "22aed7ac-cb79-4fea-82a3-4151bedf74df",
   "metadata": {
    "tags": []
   },
   "outputs": [],
   "source": [
    "piece.verovioPtypes(NIM)"
   ]
  },
  {
   "cell_type": "markdown",
   "id": "652e2842-0fae-4481-872f-1c9470e700ca",
   "metadata": {},
   "source": [
    "**Heatmap**"
   ]
  },
  {
   "cell_type": "code",
   "execution_count": null,
   "id": "f0cf88b8-d5c6-4c51-ba1b-cfcc922c2b6f",
   "metadata": {
    "tags": []
   },
   "outputs": [],
   "source": [
    "# define the model list\n",
    "model_list = ['https://crimproject.org/mei/CRIM_Model_0010.mei', 'https://crimproject.org/mei/CRIM_Model_0011.mei', 'https://crimproject.org/mei/CRIM_Model_0014.mei']\n",
    "\n",
    "# and the mass list:\n",
    "mass_list = ['https://crimproject.org/mei/CRIM_Mass_0008_1.mei', 'https://crimproject.org/mei/CRIM_Mass_0008_2.mei', 'https://crimproject.org/mei/CRIM_Mass_0008_3.mei']\n",
    "\n",
    "# now build each of these lists as a pair of corpora:\n",
    "mod_corp = CorpusBase(model_list)\n",
    "mass_corp = CorpusBase(mass_list)"
   ]
  },
  {
   "cell_type": "code",
   "execution_count": null,
   "id": "79ab6077-2275-46f1-b6b5-0615647706a8",
   "metadata": {
    "tags": []
   },
   "outputs": [],
   "source": [
    "mod_corp = CorpusBase(model_list)\n",
    "mass_corp = CorpusBase(mass_list)\n",
    "module_matrix = mod_corp.moduleFinder(masses=mass_corp, models=mod_corp)\n",
    "module_matrix"
   ]
  },
  {
   "cell_type": "code",
   "execution_count": null,
   "id": "77fadf74-2b1c-434e-9d8a-50de2c9ab2c3",
   "metadata": {
    "tags": []
   },
   "outputs": [],
   "source": [
    "dataplot = sns.heatmap(module_matrix, cmap=\"YlGnBu\", annot=False)\n",
    "plt.show()"
   ]
  },
  {
   "cell_type": "code",
   "execution_count": null,
   "id": "e20c496e-34d7-4ace-b576-6f40c6ee4791",
   "metadata": {
    "tags": []
   },
   "outputs": [],
   "source": [
    "corpus_list = [\n",
    "    'https://crimproject.org/mei/CRIM_Model_0008.mei', \n",
    "    'https://crimproject.org/mei/CRIM_Mass_0005_1.mei', \n",
    "    'https://crimproject.org/mei/CRIM_Mass_0005_2.mei', \n",
    "    'https://crimproject.org/mei/CRIM_Mass_0005_3.mei', \n",
    "    'https://crimproject.org/mei/CRIM_Mass_0005_4.mei', \n",
    "    'https://crimproject.org/mei/CRIM_Mass_0005_5.mei'\n",
    "]"
   ]
  },
  {
   "cell_type": "code",
   "execution_count": null,
   "id": "bbbb249f-9bf2-4859-8d34-45bfe1d0e818",
   "metadata": {
    "tags": []
   },
   "outputs": [],
   "source": [
    "model = corpus_list[0] # <== the model will be score \"0\" in the previous list\n",
    "model = importScore(model)"
   ]
  },
  {
   "cell_type": "code",
   "execution_count": null,
   "id": "2bb9a340-3ac0-4b37-a0da-a62ab1238ed8",
   "metadata": {
    "tags": []
   },
   "outputs": [],
   "source": [
    "mass_movement = corpus_list[1] # <== select the index number of your mass movement from the corpus.  \"1\" is the Kyrie, \"5\" is the Agnus\n",
    "mass_movement = importScore(mass_movement)\n",
    "print(model.metadata, mass_movement.metadata)"
   ]
  },
  {
   "cell_type": "code",
   "execution_count": null,
   "id": "7848fd4b-432d-4360-b5ac-8281f57aa8b7",
   "metadata": {
    "tags": []
   },
   "outputs": [],
   "source": [
    "# set parameters:\n",
    "thematic = True\n",
    "anywhere = True\n",
    "offset = True\n",
    "progress = True\n",
    "n = 4"
   ]
  },
  {
   "cell_type": "code",
   "execution_count": null,
   "id": "43602fe8-a4c8-4fe2-a6c4-cd196196b2cf",
   "metadata": {
    "tags": []
   },
   "outputs": [],
   "source": [
    "model_entries = model.entries(thematic=thematic, anywhere=anywhere, n=n)\n",
    "model_entries_det = model.detailIndex(model_entries, offset=offset, progress=progress)\n",
    "model_entries_det"
   ]
  },
  {
   "cell_type": "code",
   "execution_count": null,
   "id": "7d36edcf-c1c6-450b-b8b1-51a8ea8a2b85",
   "metadata": {
    "tags": []
   },
   "outputs": [],
   "source": [
    "mass_movement_entries = mass_movement.entries(thematic=thematic, anywhere=anywhere, n=n)\n",
    "mass_movement_entries_det = mass_movement.detailIndex(mass_movement_entries, offset=offset, progress=progress)"
   ]
  },
  {
   "cell_type": "code",
   "execution_count": null,
   "id": "ce7294da-032e-4244-95a5-90c721e62c1c",
   "metadata": {
    "tags": []
   },
   "outputs": [],
   "source": [
    "# print(model_entries_det, mass_movement_entries_det)"
   ]
  },
  {
   "cell_type": "code",
   "execution_count": null,
   "id": "9e03f50e-611a-4959-b31c-fd99796524f8",
   "metadata": {
    "tags": []
   },
   "outputs": [],
   "source": [
    "model_entries = model.entries(thematic=True, anywhere=True, n=4)\n",
    "model_entries_stack = model_entries.stack()\n",
    "mass_movement_entries = mass_movement.entries(thematic=True, anywhere=True, n=4)\n",
    "mass_movement_entries_stack = mass_movement_entries.stack()\n",
    "shared_entries = list(set(mass_movement_entries_stack).intersection(model_entries_stack))\n",
    "shared_entries = shared_entries[:]\n",
    "shared_entries"
   ]
  },
  {
   "cell_type": "code",
   "execution_count": null,
   "id": "b51a3161-b0fa-4426-9654-ef5664cd6bbc",
   "metadata": {
    "tags": []
   },
   "outputs": [],
   "source": [
    "nr = model.notes(combineUnisons=True)\n",
    "mel = model.melodic(df=nr, kind='d', compound=True, unit=0, end=False) \n",
    "mel_ngrams = model.ngrams(df=mel, n=4) \n",
    "entry_ngrams = model.entries(df=mel, n=4) \n",
    "mel_ngrams_duration = model.durations(df=mel, n=4, mask_df=entry_ngrams) \n",
    "viz.plot_ngrams_heatmap(entry_ngrams, mel_ngrams_duration, selected_patterns=shared_entries, voices=[], includeCount=False)"
   ]
  },
  {
   "cell_type": "code",
   "execution_count": null,
   "id": "29e56671-e772-431a-a439-0fdac80ce25d",
   "metadata": {
    "tags": []
   },
   "outputs": [],
   "source": [
    "nr = mass_movement.notes(combineUnisons=True) \n",
    "mel = mass_movement.melodic(df=nr, kind='d', compound=True, unit=0, end=False)\n",
    "mel_ngrams = mass_movement.ngrams(df=mel, n=4)\n",
    "entry_ngrams = mass_movement.entries(df=mel, n=4)\n",
    "mel_ngrams_duration = mass_movement.durations(df=mel, n=4, mask_df=entry_ngrams)\n",
    "viz.plot_ngrams_heatmap(entry_ngrams, mel_ngrams_duration, selected_patterns=shared_entries, voices=[], includeCount=False)"
   ]
  },
  {
   "cell_type": "code",
   "execution_count": null,
   "id": "e7b771c4-40b4-4a6e-874c-7b53d725e057",
   "metadata": {},
   "outputs": [],
   "source": []
  }
 ],
 "metadata": {
  "kernelspec": {
   "display_name": "Python 3 (ipykernel)",
   "language": "python",
   "name": "python3"
  },
  "language_info": {
   "codemirror_mode": {
    "name": "ipython",
    "version": 3
   },
   "file_extension": ".py",
   "mimetype": "text/x-python",
   "name": "python",
   "nbconvert_exporter": "python",
   "pygments_lexer": "ipython3",
   "version": "3.8.10"
  }
 },
 "nbformat": 4,
 "nbformat_minor": 5
}
